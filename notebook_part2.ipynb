{
 "cells": [
  {
   "cell_type": "markdown",
   "id": "467d16f7",
   "metadata": {},
   "source": [
    "# Notebook for part 2 testing"
   ]
  },
  {
   "cell_type": "code",
   "execution_count": 1,
   "id": "ecaacec9",
   "metadata": {},
   "outputs": [],
   "source": [
    "import part2\n",
    "import random"
   ]
  },
  {
   "cell_type": "markdown",
   "id": "7280930b",
   "metadata": {},
   "source": [
    "### Check if a given number is `Fibinacci`"
   ]
  },
  {
   "cell_type": "code",
   "execution_count": 2,
   "id": "1f149807",
   "metadata": {},
   "outputs": [
    {
     "data": {
      "text/plain": [
       "False"
      ]
     },
     "execution_count": 2,
     "metadata": {},
     "output_type": "execute_result"
    }
   ],
   "source": [
    "part2.check_for_fibonacci(number=101)"
   ]
  },
  {
   "cell_type": "code",
   "execution_count": 3,
   "id": "9bf15539",
   "metadata": {},
   "outputs": [
    {
     "data": {
      "text/plain": [
       "True"
      ]
     },
     "execution_count": 3,
     "metadata": {},
     "output_type": "execute_result"
    }
   ],
   "source": [
    "part2.check_for_fibonacci(number=1)"
   ]
  },
  {
   "cell_type": "markdown",
   "id": "65d58ab2",
   "metadata": {},
   "source": [
    "### List comprehension for following:\n",
    "\n",
    "    1) to add only even and odd numbers respectively from two lists\n",
    "    2) to remove vowels from a string\n",
    "    3) Sigmoid\n",
    "    4) shifted string"
   ]
  },
  {
   "cell_type": "code",
   "execution_count": 4,
   "id": "38721863",
   "metadata": {},
   "outputs": [],
   "source": [
    "data1 = [random.randint(0, 1000000) for _ in range(10)]\n",
    "\n",
    "data2 = [random.randint(0, 1000000) for _ in range(10)]\n",
    "\n",
    "sigmoid_data = random.sample(range(-100, 100), 50)\n",
    "\n",
    "user_string = \"Bonjour. How are you doing? See at the session in morning! 🙃\""
   ]
  },
  {
   "cell_type": "code",
   "execution_count": 5,
   "id": "afbe381a",
   "metadata": {},
   "outputs": [],
   "source": [
    "t1, t2, t3, t4 = part2.list_comprehension(a=data1, b=data2, string_=user_string, array=sigmoid_data)"
   ]
  },
  {
   "cell_type": "markdown",
   "id": "8c502da9",
   "metadata": {},
   "source": [
    "#### add only even and odd numbers respectively from two lists"
   ]
  },
  {
   "cell_type": "code",
   "execution_count": 6,
   "id": "e271884b",
   "metadata": {},
   "outputs": [
    {
     "data": {
      "text/plain": [
       "[966429, 680115]"
      ]
     },
     "execution_count": 6,
     "metadata": {},
     "output_type": "execute_result"
    }
   ],
   "source": [
    "t1"
   ]
  },
  {
   "cell_type": "markdown",
   "id": "d207a570",
   "metadata": {},
   "source": [
    "#### to remove vowels from a string"
   ]
  },
  {
   "cell_type": "code",
   "execution_count": 7,
   "id": "f529b54c",
   "metadata": {},
   "outputs": [
    {
     "name": "stdout",
     "output_type": "stream",
     "text": [
      "Original string: Bonjour. How are you doing? See at the session in morning! 🙃\n",
      "String with vowels removed: Bnjr. Hw r y dng? S t th sssn n mrnng! 🙃\n"
     ]
    }
   ],
   "source": [
    "print(f\"Original string: {user_string}\\nString with vowels removed: {t2}\")"
   ]
  },
  {
   "cell_type": "markdown",
   "id": "e89fb8ae",
   "metadata": {},
   "source": [
    "#### Sigmoid"
   ]
  },
  {
   "cell_type": "code",
   "execution_count": 8,
   "id": "3a5456c1",
   "metadata": {},
   "outputs": [
    {
     "data": {
      "text/plain": [
       "[8.194012623990515e-40,\n",
       " 1.0,\n",
       " 3.059022269256247e-07,\n",
       " 1.603810890548638e-28,\n",
       " 1.0,\n",
       " 9.602680054508676e-24,\n",
       " 1.928749847963918e-22,\n",
       " 1.0,\n",
       " 0.9999999999622486,\n",
       " 0.7310585786300049,\n",
       " 0.9999999999999656,\n",
       " 2.7894680920908113e-10,\n",
       " 1.0,\n",
       " 1.0,\n",
       " 2.9374821117108028e-30,\n",
       " 3.1391327920480296e-17,\n",
       " 0.00012339457598623172,\n",
       " 1.0,\n",
       " 2.2273635617957434e-39,\n",
       " 1.0,\n",
       " 0.9999991684719722,\n",
       " 0.9999999847700205,\n",
       " 0.999997739675702,\n",
       " 0.5,\n",
       " 1.0,\n",
       " 0.9999999999999065,\n",
       " 0.9999999999999982,\n",
       " 2.2603242979035746e-06,\n",
       " 0.0009110511944006454,\n",
       " 1.5007857627073948e-41,\n",
       " 1.0,\n",
       " 0.999999694097773,\n",
       " 0.2689414213699951,\n",
       " 7.095474162284704e-23,\n",
       " 4.4737793061811207e-38,\n",
       " 1.0,\n",
       " 0.9999938558253978,\n",
       " 1.0,\n",
       " 1.0,\n",
       " 3.7751345441365816e-11,\n",
       " 0.8807970779778823,\n",
       " 1.0,\n",
       " 4.5397868702434395e-05,\n",
       " 8.315280276641321e-07,\n",
       " 1.0,\n",
       " 2.031092662734811e-42,\n",
       " 2.678636961808078e-33,\n",
       " 0.9999999943972036,\n",
       " 0.0024726231566347743,\n",
       " 2.0611536181902037e-09]"
      ]
     },
     "execution_count": 8,
     "metadata": {},
     "output_type": "execute_result"
    }
   ],
   "source": [
    "t3"
   ]
  },
  {
   "cell_type": "markdown",
   "id": "ffb41feb",
   "metadata": {},
   "source": [
    "#### shifted string with 5 places"
   ]
  },
  {
   "cell_type": "code",
   "execution_count": 12,
   "id": "45e0a1d0",
   "metadata": {},
   "outputs": [
    {
     "name": "stdout",
     "output_type": "stream",
     "text": [
      "Original string:\t\t Bonjour. How are you doing? See at the session in morning! 🙃\n",
      "String with shifted letters:\t gtsotzw. mtb fwj dtz itnsl? xjj fy ymj xjxxnts ns rtwsnsl! 🙃\n"
     ]
    }
   ],
   "source": [
    "print(f\"Original string:\\t\\t {user_string}\\nString with shifted letters:\\t {t4}\")"
   ]
  },
  {
   "cell_type": "markdown",
   "id": "340250f9",
   "metadata": {},
   "source": [
    "#### Test for profanity "
   ]
  },
  {
   "cell_type": "code",
   "execution_count": 13,
   "id": "d33b263d",
   "metadata": {},
   "outputs": [
    {
     "name": "stdout",
     "output_type": "stream",
     "text": [
      "Profane language used in sample .txt file\n"
     ]
    }
   ],
   "source": [
    "\n",
    "with open(\"test_words.txt\", 'r', encoding=\"utf-8\") as f:\n",
    "    text = f.read()\n",
    "\n",
    "with open(\"profanity.txt\", 'r', encoding=\"utf-8\") as f:\n",
    "    profane_words = set([x.strip() for x in f.readlines()])\n",
    "\n",
    "if part2.check_for_profanity(text=text):\n",
    "    print(\"Profane language used in sample .txt file\")\n",
    "else:\n",
    "    print(\"Text is all clean\")"
   ]
  },
  {
   "cell_type": "markdown",
   "id": "cf3c2fa3",
   "metadata": {},
   "source": [
    "#### Check for Error in case of short text"
   ]
  },
  {
   "cell_type": "code",
   "execution_count": 14,
   "id": "82a6461b",
   "metadata": {},
   "outputs": [
    {
     "ename": "ValueError",
     "evalue": "Make sure you provide text as string and/or the provided text contains at least 200 words",
     "output_type": "error",
     "traceback": [
      "\u001b[0;31m---------------------------------------------------------------------------\u001b[0m",
      "\u001b[0;31mValueError\u001b[0m                                Traceback (most recent call last)",
      "\u001b[0;32m<ipython-input-14-41f606406d19>\u001b[0m in \u001b[0;36m<module>\u001b[0;34m\u001b[0m\n\u001b[0;32m----> 1\u001b[0;31m \u001b[0mpart2\u001b[0m\u001b[0;34m.\u001b[0m\u001b[0mcheck_for_profanity\u001b[0m\u001b[0;34m(\u001b[0m\u001b[0mtext\u001b[0m\u001b[0;34m=\u001b[0m\u001b[0;34m\"Hello World\"\u001b[0m\u001b[0;34m)\u001b[0m\u001b[0;34m\u001b[0m\u001b[0;34m\u001b[0m\u001b[0m\n\u001b[0m",
      "\u001b[0;32m~/Documents/workspace/github/EPAI3/epai3-s6/part2.py\u001b[0m in \u001b[0;36mcheck_for_profanity\u001b[0;34m(text)\u001b[0m\n\u001b[1;32m     87\u001b[0m         \u001b[0;32mraise\u001b[0m \u001b[0mFileNotFoundError\u001b[0m\u001b[0;34m(\u001b[0m\u001b[0;34m\"`profanity.txt` not found\"\u001b[0m\u001b[0;34m)\u001b[0m\u001b[0;34m\u001b[0m\u001b[0;34m\u001b[0m\u001b[0m\n\u001b[1;32m     88\u001b[0m     \u001b[0;32mif\u001b[0m \u001b[0;32mnot\u001b[0m \u001b[0;34m(\u001b[0m\u001b[0mtext\u001b[0m \u001b[0;32mand\u001b[0m \u001b[0misinstance\u001b[0m\u001b[0;34m(\u001b[0m\u001b[0mtext\u001b[0m\u001b[0;34m,\u001b[0m \u001b[0mstr\u001b[0m\u001b[0;34m)\u001b[0m \u001b[0;32mand\u001b[0m \u001b[0mlen\u001b[0m\u001b[0;34m(\u001b[0m\u001b[0mtext\u001b[0m\u001b[0;34m.\u001b[0m\u001b[0mstrip\u001b[0m\u001b[0;34m(\u001b[0m\u001b[0;34m)\u001b[0m\u001b[0;34m.\u001b[0m\u001b[0msplit\u001b[0m\u001b[0;34m(\u001b[0m\u001b[0;34m)\u001b[0m\u001b[0;34m)\u001b[0m \u001b[0;34m>=\u001b[0m \u001b[0;36m200\u001b[0m\u001b[0;34m)\u001b[0m\u001b[0;34m:\u001b[0m\u001b[0;34m\u001b[0m\u001b[0;34m\u001b[0m\u001b[0m\n\u001b[0;32m---> 89\u001b[0;31m         raise ValueError(\"Make sure you provide text as string\"\n\u001b[0m\u001b[1;32m     90\u001b[0m                                   \u001b[0;34m\" and/or\"\u001b[0m\u001b[0;34m\u001b[0m\u001b[0;34m\u001b[0m\u001b[0m\n\u001b[1;32m     91\u001b[0m                                   \" the provided text contains at least 200 words\")\n",
      "\u001b[0;31mValueError\u001b[0m: Make sure you provide text as string and/or the provided text contains at least 200 words"
     ]
    }
   ],
   "source": [
    "part2.check_for_profanity(text=\"Hello World\")"
   ]
  },
  {
   "cell_type": "markdown",
   "id": "0fb82878",
   "metadata": {},
   "source": [
    "#### test reduce usage"
   ]
  },
  {
   "cell_type": "code",
   "execution_count": 15,
   "id": "3347047c",
   "metadata": {},
   "outputs": [],
   "source": [
    "s = \"abcd\"\n",
    "l = [1, 2, 3, 4, 5, 6, 7, 8, 9, 10]\n",
    "evens, biggest_char, add_3rd_element = part2.use_reduce(l, s)\n",
    "assert evens == 2 + 4 + 6 + 8 + 10\n",
    "assert add_3rd_element == 3 + 6 + 9\n",
    "assert biggest_char == 'd'"
   ]
  },
  {
   "cell_type": "markdown",
   "id": "4e3057ce",
   "metadata": {},
   "source": [
    "#### Get random vehicle numbers"
   ]
  },
  {
   "cell_type": "code",
   "execution_count": 16,
   "id": "18c52b56",
   "metadata": {},
   "outputs": [
    {
     "data": {
      "text/plain": [
       "['KA74KS9592',\n",
       " 'KA33CW1733',\n",
       " 'KA76JD8977',\n",
       " 'KA35CG5616',\n",
       " 'KA85RE1027',\n",
       " 'KA45ON3326',\n",
       " 'KA37RH2076',\n",
       " 'KA22PO9307',\n",
       " 'KA81SL4552',\n",
       " 'KA14FJ8705',\n",
       " 'KA39MZ6713',\n",
       " 'KA78QT6368',\n",
       " 'KA55SW3778',\n",
       " 'KA33EQ8776',\n",
       " 'KA41BJ7756']"
      ]
     },
     "execution_count": 16,
     "metadata": {},
     "output_type": "execute_result"
    }
   ],
   "source": [
    "part2.generate_random_number_for_vehicles()"
   ]
  },
  {
   "cell_type": "code",
   "execution_count": 17,
   "id": "859aac37",
   "metadata": {},
   "outputs": [
    {
     "data": {
      "text/plain": [
       "15"
      ]
     },
     "execution_count": 17,
     "metadata": {},
     "output_type": "execute_result"
    }
   ],
   "source": [
    "# total length of random number\n",
    "len(part2.generate_random_number_for_vehicles())"
   ]
  },
  {
   "cell_type": "markdown",
   "id": "bbbcadbc",
   "metadata": {},
   "source": [
    "#### Re-use generate random number for vehicles but via Partial functions"
   ]
  },
  {
   "cell_type": "code",
   "execution_count": 18,
   "id": "1dcacce1",
   "metadata": {},
   "outputs": [
    {
     "data": {
      "text/plain": [
       "['DL36BG6048',\n",
       " 'DL40WK9557',\n",
       " 'DL38MN9584',\n",
       " 'DL33IS7609',\n",
       " 'DL61FB3317',\n",
       " 'DL44QV3735',\n",
       " 'DL91VE6843',\n",
       " 'DL77TN1035',\n",
       " 'DL64JS6709',\n",
       " 'DL52RS9086',\n",
       " 'DL76DW2421',\n",
       " 'DL44VL4414',\n",
       " 'DL86TA8877',\n",
       " 'DL10HA9213',\n",
       " 'DL53RK4720']"
      ]
     },
     "execution_count": 18,
     "metadata": {},
     "output_type": "execute_result"
    }
   ],
   "source": [
    "part2.generate_random_number_for_vehicles_again_using_partial(state=\"DL\")"
   ]
  },
  {
   "cell_type": "code",
   "execution_count": null,
   "id": "425a8e54",
   "metadata": {},
   "outputs": [],
   "source": []
  }
 ],
 "metadata": {
  "kernelspec": {
   "display_name": "Python 3",
   "language": "python",
   "name": "python3"
  },
  "language_info": {
   "codemirror_mode": {
    "name": "ipython",
    "version": 3
   },
   "file_extension": ".py",
   "mimetype": "text/x-python",
   "name": "python",
   "nbconvert_exporter": "python",
   "pygments_lexer": "ipython3",
   "version": "3.8.8"
  }
 },
 "nbformat": 4,
 "nbformat_minor": 5
}
