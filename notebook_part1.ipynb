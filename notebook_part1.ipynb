{
 "cells": [
  {
   "cell_type": "markdown",
   "id": "071bae54",
   "metadata": {},
   "source": [
    "# Notebook for Part 1"
   ]
  },
  {
   "cell_type": "code",
   "execution_count": 1,
   "id": "7361247b",
   "metadata": {},
   "outputs": [],
   "source": [
    "# import pytest and part1\n",
    "import pytest\n",
    "import part1"
   ]
  },
  {
   "cell_type": "markdown",
   "id": "d5b23d60",
   "metadata": {},
   "source": [
    "### Run all tests for part1.py"
   ]
  },
  {
   "cell_type": "code",
   "execution_count": 2,
   "id": "7c859b9b",
   "metadata": {},
   "outputs": [
    {
     "name": "stdout",
     "output_type": "stream",
     "text": [
      "================================================= test session starts ==================================================\n",
      "platform darwin -- Python 3.8.8, pytest-6.2.3, py-1.10.0, pluggy-0.13.1 -- /Users/manu/opt/anaconda3/bin/python\n",
      "cachedir: .pytest_cache\n",
      "rootdir: /Users/manu/Documents/workspace/github/EPAI3/epai3-s6\n",
      "plugins: pylama-7.7.1, anyio-2.2.0\n",
      "collecting ... collected 26 items\n",
      "\n",
      "test_part1.py::test_readme_exists PASSED                                                                         [  3%]\n",
      "test_part1.py::test_readme_contents PASSED                                                                       [  7%]\n",
      "test_part1.py::test_readme_proper_description PASSED                                                             [ 11%]\n",
      "test_part1.py::test_readme_file_for_formatting PASSED                                                            [ 15%]\n",
      "test_part1.py::test_indentations PASSED                                                                          [ 19%]\n",
      "test_part1.py::test_function_name_had_cap_letter PASSED                                                          [ 23%]\n",
      "test_part1.py::test_all_functions_implemented PASSED                                                             [ 26%]\n",
      "test_part1.py::test_create_deck_cards_single_expression_docstring PASSED                                         [ 30%]\n",
      "test_part1.py::test_create_deck_cards_single_expression_docstring_content PASSED                                 [ 34%]\n",
      "test_part1.py::test_create_deck_cards_single_expression_total_cards PASSED                                       [ 38%]\n",
      "test_part1.py::test_create_deck_cards_single_expression_compare_cards PASSED                                     [ 42%]\n",
      "test_part1.py::test_create_deck_cards_normal_function_docstring PASSED                                           [ 46%]\n",
      "test_part1.py::test_create_deck_cards_normal_function_docstring_content PASSED                                   [ 50%]\n",
      "test_part1.py::test_play_royal_flush PASSED                                                                      [ 53%]\n",
      "test_part1.py::test_play_straight_flush PASSED                                                                   [ 57%]\n",
      "test_part1.py::test_play_4_of_kind PASSED                                                                        [ 61%]\n",
      "test_part1.py::test_play_full_house PASSED                                                                       [ 65%]\n",
      "test_part1.py::test_play_flush PASSED                                                                            [ 69%]\n",
      "test_part1.py::test_play_straight PASSED                                                                         [ 73%]\n",
      "test_part1.py::test_play_3_kind PASSED                                                                           [ 76%]\n",
      "test_part1.py::test_play_2_pair PASSED                                                                           [ 80%]\n",
      "test_part1.py::test_play_1_pair PASSED                                                                           [ 84%]\n",
      "test_part1.py::test_play_high_card PASSED                                                                        [ 88%]\n",
      "test_part1.py::test_create_deck_cards_normal_function_total_cards PASSED                                         [ 92%]\n",
      "test_part1.py::test_create_deck_cards_normal_function_compare_cards PASSED                                       [ 96%]\n",
      "test_part1.py::test_play_poker_game PASSED                                                                       [100%]\n",
      "\n",
      "================================================== 26 passed in 0.38s ==================================================\n"
     ]
    },
    {
     "data": {
      "text/plain": [
       "<ExitCode.OK: 0>"
      ]
     },
     "execution_count": 2,
     "metadata": {},
     "output_type": "execute_result"
    }
   ],
   "source": [
    "pytest.main([\"-v\", \"-x\", \"test_part1.py\"])"
   ]
  },
  {
   "cell_type": "markdown",
   "id": "1596508f",
   "metadata": {},
   "source": [
    "### Run create deck using lambda"
   ]
  },
  {
   "cell_type": "code",
   "execution_count": 3,
   "id": "b6083bce",
   "metadata": {},
   "outputs": [
    {
     "data": {
      "text/plain": [
       "[('2', 'spades'),\n",
       " ('3', 'spades'),\n",
       " ('4', 'spades'),\n",
       " ('5', 'spades'),\n",
       " ('6', 'spades'),\n",
       " ('7', 'spades'),\n",
       " ('8', 'spades'),\n",
       " ('9', 'spades'),\n",
       " ('10', 'spades'),\n",
       " ('jack', 'spades'),\n",
       " ('queen', 'spades'),\n",
       " ('king', 'spades'),\n",
       " ('ace', 'spades'),\n",
       " ('2', 'clubs'),\n",
       " ('3', 'clubs'),\n",
       " ('4', 'clubs'),\n",
       " ('5', 'clubs'),\n",
       " ('6', 'clubs'),\n",
       " ('7', 'clubs'),\n",
       " ('8', 'clubs'),\n",
       " ('9', 'clubs'),\n",
       " ('10', 'clubs'),\n",
       " ('jack', 'clubs'),\n",
       " ('queen', 'clubs'),\n",
       " ('king', 'clubs'),\n",
       " ('ace', 'clubs'),\n",
       " ('2', 'hearts'),\n",
       " ('3', 'hearts'),\n",
       " ('4', 'hearts'),\n",
       " ('5', 'hearts'),\n",
       " ('6', 'hearts'),\n",
       " ('7', 'hearts'),\n",
       " ('8', 'hearts'),\n",
       " ('9', 'hearts'),\n",
       " ('10', 'hearts'),\n",
       " ('jack', 'hearts'),\n",
       " ('queen', 'hearts'),\n",
       " ('king', 'hearts'),\n",
       " ('ace', 'hearts'),\n",
       " ('2', 'diamonds'),\n",
       " ('3', 'diamonds'),\n",
       " ('4', 'diamonds'),\n",
       " ('5', 'diamonds'),\n",
       " ('6', 'diamonds'),\n",
       " ('7', 'diamonds'),\n",
       " ('8', 'diamonds'),\n",
       " ('9', 'diamonds'),\n",
       " ('10', 'diamonds'),\n",
       " ('jack', 'diamonds'),\n",
       " ('queen', 'diamonds'),\n",
       " ('king', 'diamonds'),\n",
       " ('ace', 'diamonds')]"
      ]
     },
     "execution_count": 3,
     "metadata": {},
     "output_type": "execute_result"
    }
   ],
   "source": [
    "part1.create_deck_cards_lambda()"
   ]
  },
  {
   "cell_type": "markdown",
   "id": "832cb6cb",
   "metadata": {},
   "source": [
    "### Run create deck using simple approach"
   ]
  },
  {
   "cell_type": "code",
   "execution_count": 4,
   "id": "012c79a1",
   "metadata": {},
   "outputs": [
    {
     "data": {
      "text/plain": [
       "[('2', 'spades'),\n",
       " ('3', 'spades'),\n",
       " ('4', 'spades'),\n",
       " ('5', 'spades'),\n",
       " ('6', 'spades'),\n",
       " ('7', 'spades'),\n",
       " ('8', 'spades'),\n",
       " ('9', 'spades'),\n",
       " ('10', 'spades'),\n",
       " ('jack', 'spades'),\n",
       " ('queen', 'spades'),\n",
       " ('king', 'spades'),\n",
       " ('ace', 'spades'),\n",
       " ('2', 'clubs'),\n",
       " ('3', 'clubs'),\n",
       " ('4', 'clubs'),\n",
       " ('5', 'clubs'),\n",
       " ('6', 'clubs'),\n",
       " ('7', 'clubs'),\n",
       " ('8', 'clubs'),\n",
       " ('9', 'clubs'),\n",
       " ('10', 'clubs'),\n",
       " ('jack', 'clubs'),\n",
       " ('queen', 'clubs'),\n",
       " ('king', 'clubs'),\n",
       " ('ace', 'clubs'),\n",
       " ('2', 'hearts'),\n",
       " ('3', 'hearts'),\n",
       " ('4', 'hearts'),\n",
       " ('5', 'hearts'),\n",
       " ('6', 'hearts'),\n",
       " ('7', 'hearts'),\n",
       " ('8', 'hearts'),\n",
       " ('9', 'hearts'),\n",
       " ('10', 'hearts'),\n",
       " ('jack', 'hearts'),\n",
       " ('queen', 'hearts'),\n",
       " ('king', 'hearts'),\n",
       " ('ace', 'hearts'),\n",
       " ('2', 'diamonds'),\n",
       " ('3', 'diamonds'),\n",
       " ('4', 'diamonds'),\n",
       " ('5', 'diamonds'),\n",
       " ('6', 'diamonds'),\n",
       " ('7', 'diamonds'),\n",
       " ('8', 'diamonds'),\n",
       " ('9', 'diamonds'),\n",
       " ('10', 'diamonds'),\n",
       " ('jack', 'diamonds'),\n",
       " ('queen', 'diamonds'),\n",
       " ('king', 'diamonds'),\n",
       " ('ace', 'diamonds')]"
      ]
     },
     "execution_count": 4,
     "metadata": {},
     "output_type": "execute_result"
    }
   ],
   "source": [
    "part1.create_deck_cards_normal_function()"
   ]
  }
 ],
 "metadata": {
  "kernelspec": {
   "display_name": "Python 3",
   "language": "python",
   "name": "python3"
  },
  "language_info": {
   "codemirror_mode": {
    "name": "ipython",
    "version": 3
   },
   "file_extension": ".py",
   "mimetype": "text/x-python",
   "name": "python",
   "nbconvert_exporter": "python",
   "pygments_lexer": "ipython3",
   "version": "3.8.8"
  }
 },
 "nbformat": 4,
 "nbformat_minor": 5
}
